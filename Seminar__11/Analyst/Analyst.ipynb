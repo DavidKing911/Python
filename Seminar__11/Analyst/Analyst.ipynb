{
 "cells": [
  {
   "cell_type": "code",
   "execution_count": 1,
   "id": "cf624c2f",
   "metadata": {},
   "outputs": [],
   "source": [
    "from sympy import *"
   ]
  },
  {
   "cell_type": "markdown",
   "id": "85cfe196",
   "metadata": {},
   "source": [
    "Дана функция f(x) = -12x^4*sin(cos(x)) - 18x^3+5x^2 + 10x - 30\n",
    "\n",
    "1. Определить корни\n",
    "\n",
    "2. Найти интервалы, на которых функция возрастает\n",
    "\n",
    "3. Найти интервалы, на которых функция убывает\n",
    "\n",
    "4. Построить график\n",
    "\n",
    "5. Вычислить вершину\n",
    "\n",
    "6. Определить промежутки, на котором f > 0\n",
    "\n",
    "7. Определить промежутки, на котором f < 0"
   ]
  },
  {
   "cell_type": "markdown",
   "id": "ecad08ec",
   "metadata": {},
   "source": [
    "1. Определить корни"
   ]
  },
  {
   "cell_type": "code",
   "execution_count": 2,
   "id": "b3ad9c47",
   "metadata": {},
   "outputs": [
    {
     "data": {
      "text/plain": [
       "{-7.65062228513275,\n",
       " -5.02686592820621,\n",
       " -1.33896663927711,\n",
       " 2.27305684575625,\n",
       " 4.38352369796896,\n",
       " 8.03516413341352}"
      ]
     },
     "execution_count": 2,
     "metadata": {},
     "output_type": "execute_result"
    }
   ],
   "source": [
    "x = Symbol(\"x\")\n",
    "y = -12*x**4*sin(cos(x)) - 18*x**3+5*x**2 + 10*x - 30\n",
    "lst_0 = set([nsolve(y,i) for i in range(-9,3)])\n",
    "lst_0.add(nsolve(y, 6))\n",
    "lst_0.add(nsolve(y, 7))\n",
    "lst_0.add(nsolve(y, 8))\n",
    "lst_0.add(nsolve(y, 9))\n",
    "lst_0"
   ]
  },
  {
   "cell_type": "markdown",
   "id": "bbe7ae64",
   "metadata": {},
   "source": [
    "2. Найти интервалы, на которых функция возрастает\n",
    "3. Найти интервалы, на которых функция убывает"
   ]
  },
  {
   "cell_type": "code",
   "execution_count": 3,
   "id": "b58ee2ee",
   "metadata": {},
   "outputs": [
    {
     "data": {
      "text/plain": [
       "[-9.97895376101509,\n",
       " -6.83137004000085,\n",
       " -4.16778352385048,\n",
       " -0.392677179932750,\n",
       " 0.454573568108782,\n",
       " 1.70060727795121,\n",
       " 3.81931083338228,\n",
       " 7.00103165854095,\n",
       " 9.87714905397232]"
      ]
     },
     "execution_count": 3,
     "metadata": {},
     "output_type": "execute_result"
    }
   ],
   "source": [
    "# Находим экстремумы:\n",
    "y_diff = y.diff(x)\n",
    "lst = set([nsolve(y_diff,i) for i in range(-10,3)])\n",
    "lst.add(nsolve(y_diff,6))\n",
    "lst.add(nsolve(y_diff,7))\n",
    "lst.add(nsolve(y_diff,8))\n",
    "lst.add(nsolve(y_diff,9))\n",
    "lst = sorted(lst)\n",
    "lst"
   ]
  },
  {
   "cell_type": "code",
   "execution_count": 4,
   "id": "a662ecd3",
   "metadata": {},
   "outputs": [
    {
     "name": "stdout",
     "output_type": "stream",
     "text": [
      "Функция возрастает на интервалах (-6.83137004000085,-4.16778352385048) U (7.00103165854095,9.87714905397232)\n",
      "Функция убывает на интервалах (-9.97895376101509, -6.83137004000085) U (-4.16778352385048, 0.454573568108782) U (3.81931083338228, 7.00103165854095)\n"
     ]
    }
   ],
   "source": [
    "print(\"Функция возрастает на интервалах (-6.83137004000085,-4.16778352385048) U (7.00103165854095,9.87714905397232)\")\n",
    "print(\"Функция убывает на интервалах (-9.97895376101509, -6.83137004000085) U (-4.16778352385048, 0.454573568108782) U (3.81931083338228, 7.00103165854095)\")"
   ]
  },
  {
   "cell_type": "markdown",
   "id": "9664307a",
   "metadata": {},
   "source": [
    "4. Построить график"
   ]
  },
  {
   "cell_type": "code",
   "execution_count": 5,
   "id": "3df90441",
   "metadata": {},
   "outputs": [
    {
     "data": {
      "image/png": "[encoded data removed]",
      "text/plain": [
       "<Figure size 432x288 with 1 Axes>"
      ]
     },
     "metadata": {
      "needs_background": "light"
     },
     "output_type": "display_data"
    }
   ],
   "source": [
    "function_graph = plot(y)"
   ]
  },
  {
   "cell_type": "markdown",
   "id": "7861eac4",
   "metadata": {},
   "source": [
    "5. Вычислить вершину"
   ]
  },
  {
   "cell_type": "code",
   "execution_count": 6,
   "id": "fbc62eef",
   "metadata": {},
   "outputs": [
    {
     "name": "stdout",
     "output_type": "stream",
     "text": [
      "Вершина функции: x = -9.97895376101509, y = 107678.041644003\n",
      "Вершина функции: x = -6.83137004000085, y = -13820.5349264727\n",
      "Вершина функции: x = -4.16778352385048, y = 3111.36323873596\n",
      "Вершина функции: x = -0.392677179932750, y = -32.2935799364569\n",
      "Вершина функции: x = 0.454573568108782, y = -26.5127223650368\n",
      "Вершина функции: x = 1.70060727795121, y = -74.1062930861087\n",
      "Вершина функции: x = 3.81931083338228, y = 872.255770291062\n",
      "Вершина функции: x = 7.00103165854095, y = -25610.5096810330\n",
      "Вершина функции: x = 9.87714905397232, y = 72634.6640656333\n"
     ]
    }
   ],
   "source": [
    "for i in lst:\n",
    "    y_tp = y.subs(x, i)\n",
    "    print(f'Вершина функции: x = {i}, y = {y_tp}')"
   ]
  },
  {
   "cell_type": "markdown",
   "id": "d8dba1b4",
   "metadata": {},
   "source": [
    "6. Определить промежутки, на котором f > 0\n",
    "7. Определить промежутки, на котором f < 0"
   ]
  },
  {
   "cell_type": "code",
   "execution_count": 7,
   "id": "f3ee588c",
   "metadata": {},
   "outputs": [
    {
     "name": "stdout",
     "output_type": "stream",
     "text": [
      "Функция больше нуля на промежутках(-10,-7.65062228513275);( -5.02686592820621, -1.33896663927711);(8.03516413341352,-10)\n",
      "Функция меньше нуля на промежутках(-7.65062228513275,-5.02686592820621);(4.38352369796896, 8.03516413341352)\n"
     ]
    }
   ],
   "source": [
    "print('Функция больше нуля на промежутках(-10,-7.65062228513275);( -5.02686592820621, -1.33896663927711);(8.03516413341352,-10)')\n",
    "print('Функция меньше нуля на промежутках(-7.65062228513275,-5.02686592820621);(4.38352369796896, 8.03516413341352)')"
   ]
  }
 ],
 "metadata": {
  "kernelspec": {
   "display_name": "Python 3.10.6 64-bit",
   "language": "python",
   "name": "python3"
  },
  "language_info": {
   "codemirror_mode": {
    "name": "ipython",
    "version": 3
   },
   "file_extension": ".py",
   "mimetype": "text/x-python",
   "name": "python",
   "nbconvert_exporter": "python",
   "pygments_lexer": "ipython3",
   "version": "3.10.6"
  },
  "vscode": {
   "interpreter": {
    "hash": "eff206456aba50efde457bbac5d3c6137e24a7eb73b90b6202955ede47cd54ad"
   }
  }
 },
 "nbformat": 4,
 "nbformat_minor": 5
}
