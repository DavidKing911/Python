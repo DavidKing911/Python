{
 "cells": [
  {
   "cell_type": "code",
   "execution_count": 1,
   "id": "94c2ccb7",
   "metadata": {},
   "outputs": [],
   "source": [
    "from sympy import *"
   ]
  },
  {
   "cell_type": "markdown",
   "id": "aa09f847",
   "metadata": {},
   "source": [
    "Дана функция f(x) = (sin(x)/2 + cos(x)/2)^2 * sin(x)\n",
    "\n",
    "1. Определить корни\n",
    "\n",
    "2. Найти интервалы, на которых функция возрастает\n",
    "\n",
    "3. Найти интервалы, на которых функция убывает\n",
    "\n",
    "4. Построить график\n",
    "\n",
    "5. Вычислить вершину\n",
    "\n",
    "6. Определить промежутки, на котором f > 0\n",
    "\n",
    "7. Определить промежутки, на котором f < 0"
   ]
  },
  {
   "cell_type": "markdown",
   "id": "b25a3590",
   "metadata": {},
   "source": [
    "1. Определить корни"
   ]
  },
  {
   "cell_type": "code",
   "execution_count": 2,
   "id": "afeaa261",
   "metadata": {},
   "outputs": [
    {
     "data": {
      "text/plain": [
       "[-pi/4, 0, 3*pi/4, pi]"
      ]
     },
     "execution_count": 2,
     "metadata": {},
     "output_type": "execute_result"
    }
   ],
   "source": [
    "x = Symbol(\"x\")\n",
    "y = simplify((sin(x)/2 + cos(x)/2)**2 * sin(x))\n",
    "lst_0 = sorted(solve(y, x))\n",
    "lst_0"
   ]
  },
  {
   "cell_type": "markdown",
   "id": "4ec27b35",
   "metadata": {},
   "source": [
    "2. Найти интервалы, на которых функция возрастает\n",
    "3. Найти интервалы, на которых функция убывает"
   ]
  },
  {
   "cell_type": "code",
   "execution_count": 3,
   "id": "4a44eda7",
   "metadata": {},
   "outputs": [],
   "source": [
    "# Находим экстремумы:\n",
    "y_diff = diff((sin(x)/2 + cos(x)/2)**2 * sin(x))\n",
    "lst = sorted(solve(y_diff, x))"
   ]
  },
  {
   "cell_type": "code",
   "execution_count": 4,
   "id": "64c80e3f",
   "metadata": {},
   "outputs": [
    {
     "name": "stdout",
     "output_type": "stream",
     "text": [
      "1. Функция возрастает на промежутке -2*atan(-3/2 + sqrt(6)*sqrt(5 - sqrt(17))/2 + sqrt(17)/2) : -pi/4.\n",
      "2. Функция убывает на промежутке -pi/4 : 2*atan(-sqrt(6)*sqrt(sqrt(17) + 5)/2 + 3/2 + sqrt(17)/2).\n",
      "3. Функция возрастает на промежутке 2*atan(-sqrt(6)*sqrt(sqrt(17) + 5)/2 + 3/2 + sqrt(17)/2) : 2*atan(-sqrt(17)/2 + sqrt(6)*sqrt(5 - sqrt(17))/2 + 3/2).\n",
      "4. Функция убывает на промежутке 2*atan(-sqrt(17)/2 + sqrt(6)*sqrt(5 - sqrt(17))/2 + 3/2) : 3*pi/4.\n",
      "5. Функция возрастает на промежутке 3*pi/4 : 2*atan(3/2 + sqrt(17)/2 + sqrt(6)*sqrt(sqrt(17) + 5)/2).\n",
      "6. Функция убывает на промежутке 2*atan(3/2 + sqrt(17)/2 + sqrt(6)*sqrt(sqrt(17) + 5)/2) : -2*atan(-3/2 + sqrt(6)*sqrt(5 - sqrt(17))/2 + sqrt(17)/2) + 2*pi.\n"
     ]
    }
   ],
   "source": [
    "# Находим период:\n",
    "t = pi\n",
    "while True:   \n",
    "    a_1 = y_diff.subs(x, 0)\n",
    "    a_2 = y_diff.subs(x, 0 + t)\n",
    "    if a_1 == a_2:\n",
    "        break\n",
    "    else:\n",
    "        t += pi\n",
    "point = lst[0] + t\n",
    "lst_1 = lst[:]\n",
    "lst_1.append(point)\n",
    "lst_1 = sorted(lst_1)\n",
    "for i in range(1, len(lst_1)):\n",
    "    a_1 = y.subs(x,lst_1[i-1] + 0.000001)\n",
    "    a_2 = y.subs(x,lst_1[i] - 0.000001)\n",
    "    if a_1 < a_2:\n",
    "        print(f'{i}. Функция возрастает на промежутке {lst_1[i-1]} : {lst_1[i]}.')\n",
    "    else:\n",
    "        print(f'{i}. Функция убывает на промежутке {lst_1[i-1]} : {lst_1[i]}.')"
   ]
  },
  {
   "cell_type": "markdown",
   "id": "f3b91589",
   "metadata": {},
   "source": [
    "4. Построить график"
   ]
  },
  {
   "cell_type": "code",
   "execution_count": 5,
   "id": "1e7a81cf",
   "metadata": {},
   "outputs": [
    {
     "data": {
      "image/png": "[encoded data removed]",
      "text/plain": [
       "<Figure size 432x288 with 1 Axes>"
      ]
     },
     "metadata": {
      "needs_background": "light"
     },
     "output_type": "display_data"
    }
   ],
   "source": [
    "function_graph = plot(y)"
   ]
  },
  {
   "cell_type": "markdown",
   "id": "21ba7220",
   "metadata": {},
   "source": [
    "5. Вычислить вершину"
   ]
  },
  {
   "cell_type": "code",
   "execution_count": 6,
   "id": "bea89798",
   "metadata": {},
   "outputs": [
    {
     "name": "stdout",
     "output_type": "stream",
     "text": [
      "Вершина функции: x = -2*atan(-3/2 + sqrt(6)*sqrt(5 - sqrt(17))/2 + sqrt(17)/2), y = -sin(-2*atan(-3/2 + sqrt(6)*sqrt(5 - sqrt(17))/2 + sqrt(17)/2) + pi/4)**2*sin(2*atan(-3/2 + sqrt(6)*sqrt(5 - sqrt(17))/2 + sqrt(17)/2))/2\n",
      "Вершина функции: x = -pi/4, y = 0\n",
      "Вершина функции: x = 2*atan(-sqrt(6)*sqrt(sqrt(17) + 5)/2 + 3/2 + sqrt(17)/2), y = sin(2*atan(-sqrt(6)*sqrt(sqrt(17) + 5)/2 + 3/2 + sqrt(17)/2) + pi/4)**2*sin(2*atan(-sqrt(6)*sqrt(sqrt(17) + 5)/2 + 3/2 + sqrt(17)/2))/2\n",
      "Вершина функции: x = 2*atan(-sqrt(17)/2 + sqrt(6)*sqrt(5 - sqrt(17))/2 + 3/2), y = sin(pi/4 + 2*atan(-sqrt(17)/2 + sqrt(6)*sqrt(5 - sqrt(17))/2 + 3/2))**2*sin(2*atan(-sqrt(17)/2 + sqrt(6)*sqrt(5 - sqrt(17))/2 + 3/2))/2\n",
      "Вершина функции: x = 3*pi/4, y = 0\n",
      "Вершина функции: x = 2*atan(3/2 + sqrt(17)/2 + sqrt(6)*sqrt(sqrt(17) + 5)/2), y = sin(pi/4 + 2*atan(3/2 + sqrt(17)/2 + sqrt(6)*sqrt(sqrt(17) + 5)/2))**2*sin(2*atan(3/2 + sqrt(17)/2 + sqrt(6)*sqrt(sqrt(17) + 5)/2))/2\n"
     ]
    }
   ],
   "source": [
    "for i in lst:\n",
    "    y_tp = y.subs(x, i)\n",
    "    print(f'Вершина функции: x = {i}, y = {y_tp}')"
   ]
  },
  {
   "cell_type": "markdown",
   "id": "badb6c39",
   "metadata": {},
   "source": [
    "6. Определить промежутки, на котором f > 0\n",
    "7. Определить промежутки, на котором f < 0"
   ]
  },
  {
   "cell_type": "code",
   "execution_count": 7,
   "id": "c0b831e7",
   "metadata": {},
   "outputs": [
    {
     "name": "stdout",
     "output_type": "stream",
     "text": [
      "1. Функция на промежутке -pi/4 : 0 < 0.\n",
      "2. Функция на промежутке 0 : 3*pi/4 > 0.\n",
      "3. Функция на промежутке 3*pi/4 : pi > 0.\n",
      "4. Функция на промежутке pi : 7*pi/4 < 0.\n"
     ]
    }
   ],
   "source": [
    "t = pi\n",
    "while True:\n",
    "    a_1 = y.subs(x, 1)\n",
    "    a_2 = y.subs(x, 1+t)\n",
    "    if a_1 == a_2:\n",
    "        break\n",
    "    else:\n",
    "        t += pi        \n",
    "point_plus = lst_0[0] +t\n",
    "lst_zero = lst_0[:]\n",
    "lst_zero.append(point_plus)\n",
    "for i in range(1, len(lst_zero)):\n",
    "    point = lst_zero[i-1]\n",
    "    if y.subs(x, point + 0.0000001) > 0:\n",
    "        print(f'{i}. Функция на промежутке {lst_zero[i-1]} : {lst_zero[i]} > 0.')\n",
    "    else:\n",
    "        print(f'{i}. Функция на промежутке {lst_zero[i-1]} : {lst_zero[i]} < 0.')"
   ]
  }
 ],
 "metadata": {
  "kernelspec": {
   "display_name": "Python 3.10.6 64-bit",
   "language": "python",
   "name": "python3"
  },
  "language_info": {
   "codemirror_mode": {
    "name": "ipython",
    "version": 3
   },
   "file_extension": ".py",
   "mimetype": "text/x-python",
   "name": "python",
   "nbconvert_exporter": "python",
   "pygments_lexer": "ipython3",
   "version": "3.10.6"
  },
  "vscode": {
   "interpreter": {
    "hash": "eff206456aba50efde457bbac5d3c6137e24a7eb73b90b6202955ede47cd54ad"
   }
  }
 },
 "nbformat": 4,
 "nbformat_minor": 5
}
